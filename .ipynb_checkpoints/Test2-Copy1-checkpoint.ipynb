{
 "cells": [
  {
   "cell_type": "code",
   "execution_count": 1,
   "id": "7f2b6ad6",
   "metadata": {},
   "outputs": [],
   "source": [
    "import numpy as np\n",
    "import pandas as pd\n",
    "import matplotlib.pyplot as plt\n",
    "import seaborn as sns"
   ]
  },
  {
   "cell_type": "code",
   "execution_count": 2,
   "id": "a6b37050",
   "metadata": {},
   "outputs": [
    {
     "name": "stderr",
     "output_type": "stream",
     "text": [
      "C:\\Users\\npree\\AppData\\Local\\Temp\\ipykernel_19420\\462646053.py:2: FutureWarning: Dropping of nuisance columns in DataFrame reductions (with 'numeric_only=None') is deprecated; in a future version this will raise TypeError.  Select only valid columns before calling the reduction.\n",
      "  df2012 = df2012.fillna(df2012.mean())\n",
      "C:\\Users\\npree\\AppData\\Local\\Temp\\ipykernel_19420\\462646053.py:4: FutureWarning: Dropping of nuisance columns in DataFrame reductions (with 'numeric_only=None') is deprecated; in a future version this will raise TypeError.  Select only valid columns before calling the reduction.\n",
      "  df2013 = df2013.fillna(df2013.mean())\n",
      "C:\\Users\\npree\\AppData\\Local\\Temp\\ipykernel_19420\\462646053.py:6: FutureWarning: Dropping of nuisance columns in DataFrame reductions (with 'numeric_only=None') is deprecated; in a future version this will raise TypeError.  Select only valid columns before calling the reduction.\n",
      "  df2014 = df2014.fillna(df2014.mean())\n",
      "C:\\Users\\npree\\AppData\\Local\\Temp\\ipykernel_19420\\462646053.py:8: FutureWarning: Dropping of nuisance columns in DataFrame reductions (with 'numeric_only=None') is deprecated; in a future version this will raise TypeError.  Select only valid columns before calling the reduction.\n",
      "  df2015 = df2015.fillna(df2015.mean())\n",
      "C:\\Users\\npree\\AppData\\Local\\Temp\\ipykernel_19420\\462646053.py:10: FutureWarning: Dropping of nuisance columns in DataFrame reductions (with 'numeric_only=None') is deprecated; in a future version this will raise TypeError.  Select only valid columns before calling the reduction.\n",
      "  df2016 = df2016.fillna(df2016.mean())\n",
      "C:\\Users\\npree\\AppData\\Local\\Temp\\ipykernel_19420\\462646053.py:12: FutureWarning: Dropping of nuisance columns in DataFrame reductions (with 'numeric_only=None') is deprecated; in a future version this will raise TypeError.  Select only valid columns before calling the reduction.\n",
      "  df2017 = df2017.fillna(df2017.mean())\n",
      "C:\\Users\\npree\\AppData\\Local\\Temp\\ipykernel_19420\\462646053.py:14: FutureWarning: Dropping of nuisance columns in DataFrame reductions (with 'numeric_only=None') is deprecated; in a future version this will raise TypeError.  Select only valid columns before calling the reduction.\n",
      "  df2018 = df2018.fillna(df2018.mean())\n",
      "C:\\Users\\npree\\AppData\\Local\\Temp\\ipykernel_19420\\462646053.py:16: FutureWarning: Dropping of nuisance columns in DataFrame reductions (with 'numeric_only=None') is deprecated; in a future version this will raise TypeError.  Select only valid columns before calling the reduction.\n",
      "  df2019 = df2019.fillna(df2019.mean())\n",
      "C:\\Users\\npree\\AppData\\Local\\Temp\\ipykernel_19420\\462646053.py:18: FutureWarning: Dropping of nuisance columns in DataFrame reductions (with 'numeric_only=None') is deprecated; in a future version this will raise TypeError.  Select only valid columns before calling the reduction.\n",
      "  df2020 = df2020.fillna(df2020.mean())\n",
      "C:\\Users\\npree\\AppData\\Local\\Temp\\ipykernel_19420\\462646053.py:20: FutureWarning: Dropping of nuisance columns in DataFrame reductions (with 'numeric_only=None') is deprecated; in a future version this will raise TypeError.  Select only valid columns before calling the reduction.\n",
      "  df2021= df2021.fillna(df2021.mean())\n",
      "C:\\Users\\npree\\AppData\\Local\\Temp\\ipykernel_19420\\462646053.py:22: FutureWarning: Dropping of nuisance columns in DataFrame reductions (with 'numeric_only=None') is deprecated; in a future version this will raise TypeError.  Select only valid columns before calling the reduction.\n",
      "  df2022 = df2022.fillna(df2022.mean())\n"
     ]
    }
   ],
   "source": [
    "df2012= pd.read_csv('Exchange_Rate_Report_2012.csv')\n",
    "df2012 = df2012.fillna(df2012.mean())\n",
    "df2013= pd.read_csv('Exchange_Rate_Report_2013.csv')\n",
    "df2013 = df2013.fillna(df2013.mean())\n",
    "df2014= pd.read_csv('Exchange_Rate_Report_2014.csv')\n",
    "df2014 = df2014.fillna(df2014.mean())\n",
    "df2015= pd.read_csv('Exchange_Rate_Report_2015.csv')\n",
    "df2015 = df2015.fillna(df2015.mean())\n",
    "df2016= pd.read_csv('Exchange_Rate_Report_2016.csv')\n",
    "df2016 = df2016.fillna(df2016.mean())\n",
    "df2017= pd.read_csv('Exchange_Rate_Report_2017.csv')\n",
    "df2017 = df2017.fillna(df2017.mean())\n",
    "df2018= pd.read_csv('Exchange_Rate_Report_2018.csv')\n",
    "df2018 = df2018.fillna(df2018.mean())\n",
    "df2019= pd.read_csv('Exchange_Rate_Report_2019.csv')\n",
    "df2019 = df2019.fillna(df2019.mean())\n",
    "df2020= pd.read_csv('Exchange_Rate_Report_2020.csv')\n",
    "df2020 = df2020.fillna(df2020.mean())\n",
    "df2021= pd.read_csv('Exchange_Rate_Report_2021.csv')\n",
    "df2021= df2021.fillna(df2021.mean())\n",
    "df2022= pd.read_csv('Exchange_Rate_Report_2022.csv')\n",
    "df2022 = df2022.fillna(df2022.mean())"
   ]
  },
  {
   "cell_type": "code",
   "execution_count": 3,
   "id": "4b022de4",
   "metadata": {},
   "outputs": [],
   "source": [
    "cur=['Algerian dinar   (DZD)                     ',\n",
    "       'Australian dollar   (AUD)                     ',\n",
    "       'Bahrain dinar   (BHD)                     ',\n",
    "       'Bolivar Fuerte   (VEF)                     ',\n",
    "       'Botswana pula   (BWP)                     ',\n",
    "       'Brazilian real   (BRL)                     ',\n",
    "       'Brunei dollar   (BND)                     ',\n",
    "       'Canadian dollar   (CAD)                     ',\n",
    "       'Chilean peso   (CLP)                     ',\n",
    "       'Chinese yuan   (CNY)                     ',\n",
    "       'Colombian peso   (COP)                     ',\n",
    "       'Czech koruna   (CZK)                     ',\n",
    "       'Danish krone   (DKK)                     ',\n",
    "       'Euro   (EUR)                     ',\n",
    "       'Hungarian forint   (HUF)                     ',\n",
    "       'Icelandic krona   (ISK)                     ',\n",
    "       'Indian rupee   (INR)                     ',\n",
    "       'Indonesian rupiah   (IDR)                     ',\n",
    "       'Iranian rial   (IRR)                     ',\n",
    "       'Israeli New Shekel   (ILS)                     ',\n",
    "       'Japanese yen   (JPY)                     ',\n",
    "       'Kazakhstani tenge   (KZT)                     ',\n",
    "       'Korean won   (KRW)                     ',\n",
    "       'Kuwaiti dinar   (KWD)                     ',\n",
    "       'Libyan dinar   (LYD)                     ','Malaysian ringgit   (MYR)                     ',\n",
    "'Mauritian rupee   (MUR)                     ',\n",
    "'Mexican peso   (MXN)                     ',\n",
    "'Nepalese rupee   (NPR)                     ',\n",
    "'New Zealand dollar   (NZD)                     ',\n",
    "'Norwegian krone   (NOK)                     ',\n",
    "'Omani rial   (OMR)                     ',\n",
    "'Pakistani rupee   (PKR)                     ',\n",
    "'Peruvian sol   (PEN)                     ',\n",
    "'Philippine peso   (PHP)                     ',\n",
    "'Polish zloty   (PLN)                     ',\n",
    "'Qatari riyal   (QAR)                     ',\n",
    "'Russian ruble   (RUB)                     ',\n",
    "'Saudi Arabian riyal   (SAR)                     ',\n",
    "'Singapore dollar   (SGD)                     ',\n",
    "'South African rand   (ZAR)                     ',\n",
    "'Sri Lankan rupee   (LKR)                     ',\n",
    "'Swedish krona   (SEK)                     ',\n",
    "'Swiss franc   (CHF)                     ',\n",
    "'Thai baht   (THB)                     ',\n",
    "'Trinidadian dollar   (TTD)                     ',\n",
    "'Tunisian dinar   (TND)                     ',\n",
    "'U.A.E. dirham   (AED)                     ',\n",
    "'U.K. pound   (GBP)                     ',\n",
    "'U.S. dollar   (USD)                     ',\n",
    "'Uruguayan peso   (UYU)                     ']\n",
    " "
   ]
  },
  {
   "cell_type": "code",
   "execution_count": 4,
   "id": "a317910e",
   "metadata": {},
   "outputs": [
    {
     "name": "stderr",
     "output_type": "stream",
     "text": [
      "C:\\Users\\npree\\AppData\\Local\\Temp\\ipykernel_19420\\2883480618.py:1: FutureWarning: Dropping of nuisance columns in DataFrame reductions (with 'numeric_only=None') is deprecated; in a future version this will raise TypeError.  Select only valid columns before calling the reduction.\n",
      "  d22=df2022.mean().to_frame()\n",
      "C:\\Users\\npree\\AppData\\Local\\Temp\\ipykernel_19420\\2883480618.py:3: FutureWarning: Dropping of nuisance columns in DataFrame reductions (with 'numeric_only=None') is deprecated; in a future version this will raise TypeError.  Select only valid columns before calling the reduction.\n",
      "  d21=df2021.mean().to_frame()\n",
      "C:\\Users\\npree\\AppData\\Local\\Temp\\ipykernel_19420\\2883480618.py:5: FutureWarning: Dropping of nuisance columns in DataFrame reductions (with 'numeric_only=None') is deprecated; in a future version this will raise TypeError.  Select only valid columns before calling the reduction.\n",
      "  d20=df2020.mean().to_frame()\n",
      "C:\\Users\\npree\\AppData\\Local\\Temp\\ipykernel_19420\\2883480618.py:7: FutureWarning: Dropping of nuisance columns in DataFrame reductions (with 'numeric_only=None') is deprecated; in a future version this will raise TypeError.  Select only valid columns before calling the reduction.\n",
      "  d19=df2019.mean().to_frame()\n",
      "C:\\Users\\npree\\AppData\\Local\\Temp\\ipykernel_19420\\2883480618.py:9: FutureWarning: Dropping of nuisance columns in DataFrame reductions (with 'numeric_only=None') is deprecated; in a future version this will raise TypeError.  Select only valid columns before calling the reduction.\n",
      "  d18=df2018.mean().to_frame()\n",
      "C:\\Users\\npree\\AppData\\Local\\Temp\\ipykernel_19420\\2883480618.py:11: FutureWarning: Dropping of nuisance columns in DataFrame reductions (with 'numeric_only=None') is deprecated; in a future version this will raise TypeError.  Select only valid columns before calling the reduction.\n",
      "  d17=df2017.mean().to_frame()\n",
      "C:\\Users\\npree\\AppData\\Local\\Temp\\ipykernel_19420\\2883480618.py:13: FutureWarning: Dropping of nuisance columns in DataFrame reductions (with 'numeric_only=None') is deprecated; in a future version this will raise TypeError.  Select only valid columns before calling the reduction.\n",
      "  d16=df2016.mean().to_frame()\n",
      "C:\\Users\\npree\\AppData\\Local\\Temp\\ipykernel_19420\\2883480618.py:15: FutureWarning: Dropping of nuisance columns in DataFrame reductions (with 'numeric_only=None') is deprecated; in a future version this will raise TypeError.  Select only valid columns before calling the reduction.\n",
      "  d15=df2015.mean().to_frame()\n",
      "C:\\Users\\npree\\AppData\\Local\\Temp\\ipykernel_19420\\2883480618.py:17: FutureWarning: Dropping of nuisance columns in DataFrame reductions (with 'numeric_only=None') is deprecated; in a future version this will raise TypeError.  Select only valid columns before calling the reduction.\n",
      "  d14=df2014.mean().to_frame()\n",
      "C:\\Users\\npree\\AppData\\Local\\Temp\\ipykernel_19420\\2883480618.py:19: FutureWarning: Dropping of nuisance columns in DataFrame reductions (with 'numeric_only=None') is deprecated; in a future version this will raise TypeError.  Select only valid columns before calling the reduction.\n",
      "  d13=df2013.mean().to_frame()\n",
      "C:\\Users\\npree\\AppData\\Local\\Temp\\ipykernel_19420\\2883480618.py:21: FutureWarning: Dropping of nuisance columns in DataFrame reductions (with 'numeric_only=None') is deprecated; in a future version this will raise TypeError.  Select only valid columns before calling the reduction.\n",
      "  d12=df2012.mean().to_frame()\n"
     ]
    }
   ],
   "source": [
    "d22=df2022.mean().to_frame()\n",
    "d22=d22.rename(columns={0:\"2022\"})\n",
    "d21=df2021.mean().to_frame()\n",
    "d21=d21.rename(columns={0:\"2021\"})\n",
    "d20=df2020.mean().to_frame()\n",
    "d20=d20.rename(columns={0:\"2020\"})\n",
    "d19=df2019.mean().to_frame()\n",
    "d19=d19.rename(columns={0:\"2019\"})\n",
    "d18=df2018.mean().to_frame()\n",
    "d18=d18.rename(columns={0:\"2018\"})\n",
    "d17=df2017.mean().to_frame()\n",
    "d17=d17.rename(columns={0:\"2017\"})\n",
    "d16=df2016.mean().to_frame()\n",
    "d16=d16.rename(columns={0:\"2016\"})\n",
    "d15=df2015.mean().to_frame()\n",
    "d15=d15.rename(columns={0:\"2015\"})\n",
    "d14=df2014.mean().to_frame()\n",
    "d14=d14.rename(columns={0:\"2014\"})\n",
    "d13=df2013.mean().to_frame()\n",
    "d13=d13.rename(columns={0:\"2013\"})\n",
    "d12=df2012.mean().to_frame()\n",
    "d12=d12.rename(columns={0:\"2012\"})\n",
    "dfy=d12.copy()\n",
    "dfy=dfy.join([d22,d21,d20,d19,d18,d17,d16,d15,d14,d13])\n",
    "dfy=dfy.T\n",
    "dfy['year']=[2022,2021,2020,2019,2018,2017,2016,2015,2014,2013,2012]\n",
    "\n",
    "l=[df2012,df2013,df2014,df2015,df2016,df2017,df2018,df2019,df2020,df2021,df2022]"
   ]
  },
  {
   "cell_type": "code",
   "execution_count": 5,
   "id": "8a8a6d77",
   "metadata": {},
   "outputs": [],
   "source": [
    "import plotly.graph_objs as go\n",
    "import plotly.express as px\n",
    "\n",
    "def yearly(currency):\n",
    "    fg=px.line(dfy, x = 'year', y = currency)\n",
    "    return fg\n",
    "\n",
    "\n",
    "def monthly(year,currency):\n",
    "    x=(year%100)-12\n",
    "    mdf=l[x]\n",
    "    mdf['Date'] = pd.to_datetime(mdf['Date'])\n",
    "    mdf['Mon'] = mdf['Date'].dt.strftime('%b')\n",
    "    df=mdf.groupby('Mon',sort=False).mean()\n",
    "    return df\n",
    "\n",
    "def quarterly(year,currency,quarter):\n",
    "    x=(year%100)-12\n",
    "    mdf=l[x]\n",
    "    mdf['Date'] = pd.to_datetime(mdf['Date'])\n",
    "    mdf['Mon'] = mdf['Date'].dt.strftime('%b')\n",
    "    df=mdf.groupby('Mon',sort=False).mean()\n",
    "    if(quarter==1):\n",
    "        df=df.iloc[0:3,:]\n",
    "    elif(quarter==2):\n",
    "        df=df.iloc[3:6,:]\n",
    "    elif(quarter==3):\n",
    "        df=df.iloc[6:9,:]\n",
    "    else:\n",
    "        df=df.iloc[9:12,:]\n",
    "    #sns.lineplot(data=df, x=\"Mon\", y=currency)\n",
    "    fg=px.line(df, x = df.index, y = currency)\n",
    "    return fg\n",
    "\n",
    "def highestRate(currency):\n",
    "    lis=[]\n",
    "    for i in range(11):\n",
    "        lis.append(l[i][currency].max())\n",
    "    return max(lis)\n",
    "\n",
    "def lowestRate(currency):\n",
    "    lis=[]\n",
    "    for i in range(11):\n",
    "        lis.append(l[i][currency].min())\n",
    "    return min(lis)\n",
    "\n",
    "\n",
    "#currency=cur[int(14)-1]\n",
    "#yearly(currency)\n",
    "#dfx=monthly(2015,currency)\n",
    "#fig4=px.line(dfx, x = dfx.index, y = currency)"
   ]
  },
  {
   "cell_type": "code",
   "execution_count": 6,
   "id": "4b51ab9f",
   "metadata": {},
   "outputs": [],
   "source": [
    "import dash\n",
    "from dash import dcc\n",
    "from dash import html\n",
    "from dash import Dash, dcc, html, Output, Input, State, callback\n",
    "import plotly.express as px"
   ]
  },
  {
   "cell_type": "code",
   "execution_count": 7,
   "id": "6b2dcf39",
   "metadata": {},
   "outputs": [],
   "source": [
    "app=dash.Dash()"
   ]
  },
  {
   "cell_type": "code",
   "execution_count": 8,
   "id": "f95fa0ae",
   "metadata": {},
   "outputs": [],
   "source": [
    "#HR=highestRate(currency)\n",
    "#LR=lowestRate(currency)\n",
    "s1='Highest rate :'#+str(HR)\n",
    "s2='Lowest rate : '#+str(LR)\n",
    "s3='Year Slider:'\n",
    "s4='Quarter Slider:'\n",
    "title='EXCHANGE RATE'"
   ]
  },
  {
   "cell_type": "code",
   "execution_count": 9,
   "id": "c3e08b84",
   "metadata": {},
   "outputs": [],
   "source": [
    "app.layout=html.Div([\n",
    "    html.H3(title,\n",
    "            style={\n",
    "                'color': '#FFD700',\n",
    "                'margin-top':'0px',\n",
    "                'margin-left':'600px',\n",
    "                'font-size':'22px'\n",
    "            }\n",
    "\n",
    "           ),\n",
    "    html.Div([\n",
    "       \n",
    "        html.Div(children=[\n",
    "            dcc.Dropdown(\n",
    "        id='first-dropdown',\n",
    "        options = ['U.S. dollar   (USD)                     '],\n",
    "        value='U.S. dollar   (USD)                     ',\n",
    "        style={\n",
    "                'width':'20vw',\n",
    "                'height':'5vh',\n",
    "                'padding':'0px',\n",
    "                'margin':'0px',\n",
    "                'margin-bottom':'20px'\n",
    "            }\n",
    "    ),\n",
    "            dcc.Dropdown(\n",
    "        id='second-dropdown',\n",
    "        options = cur,\n",
    "        value='Euro   (EUR)                     ',\n",
    "        style={\n",
    "                'width':'20vw',\n",
    "                'height':'5vh',\n",
    "                'padding':'0px',\n",
    "                'margin':'0px',\n",
    "                'margin-bottom':'50px'\n",
    "            }\n",
    "    ),\n",
    "        html.H3(s3,\n",
    "            style={\n",
    "                'color': '#8C8C8C',\n",
    "                'margin-right':'25px'\n",
    "            }\n",
    "           ),\n",
    "\n",
    "        dcc.Slider(dfy['year'].min(), dfy['year'].max(), 1,\n",
    "               value=2013,\n",
    "               tooltip={\"placement\": \"bottom\", \"always_visible\": True},\n",
    "               id='my-slider'\n",
    "    ),\n",
    "            \n",
    "        html.H3(s4,\n",
    "            style={\n",
    "                'color': '#8C8C8C',\n",
    "                'margin-top': '30px',\n",
    "                'margin-right':'25px'\n",
    "            }\n",
    "           ),\n",
    "        dcc.Slider(1, 4, 1,\n",
    "               value=2,\n",
    "               tooltip={\"placement\": \"bottom\", \"always_visible\": True},\n",
    "               id='my-slider1'\n",
    "    ),\n",
    "            \n",
    "    html.Div(id='slider-output-container'),\n",
    "        \n",
    "        html.H3(s1,\n",
    "            style={\n",
    "                'color': '#8C8C8C',\n",
    "                'margin-top': '30px',\n",
    "                'margin-right':'25px'\n",
    "            },id='high'\n",
    "           ),\n",
    "        html.H3(s2,\n",
    "            style={\n",
    "                'color': '#8C8C8C',\n",
    "                'margin-right':'25px'\n",
    "            },id='low'\n",
    "           )\n",
    "        ],\n",
    "            style={\n",
    "                'background-color': '#0B0909',#left\n",
    "                'width':'40vw',\n",
    "                'padding':'0px',\n",
    "                'margin':'0px',\n",
    "                'display':'flex',\n",
    "                'flex-direction': 'column',\n",
    "                'justify-content': 'center',\n",
    "            }\n",
    "            ),\n",
    "    \n",
    "    html.Div(children=[\n",
    "         dcc.RadioItems(options=['Y ','M ','Q '], value='M ',style={'color': 'Gold', 'font-size': 20} ,id='my-radio-btn'),\n",
    "        \n",
    "        \n",
    "        dcc.Graph(\n",
    "        id = 'test1',\n",
    "        figure= {}\n",
    "\n",
    "    ),\n",
    "        \n",
    "    ],\n",
    "            style={\n",
    "                'background-color': '#0B0909',\n",
    "                'width':'60vw',\n",
    "                'padding':'0px',\n",
    "                'margin':'0px',\n",
    "                'display':'flex',\n",
    "                'flex-direction': 'column',\n",
    "                'justify-content': 'center',\n",
    "                'align-items': 'center'\n",
    "            }\n",
    "            )\n",
    "       \n",
    "   ],\n",
    "        \n",
    "        \n",
    "\n",
    "            style={\n",
    "                \n",
    "                'border':'5px solid #FFD700',\n",
    "                'background-color': '#0B0909',\n",
    "                'display':'flex',\n",
    "                'padding':'50px',\n",
    "                'margin-right':'115px',\n",
    "                \n",
    "            })\n",
    "],  \n",
    "    style={\n",
    "                'background-color': '#0B0909',\n",
    "                'position':'fixed',\n",
    "                'height':'100vh',\n",
    "                'width':'100vw',\n",
    "                'padding':'50px'\n",
    "                \n",
    "            }\n",
    "        \n",
    "            )"
   ]
  },
  {
   "cell_type": "code",
   "execution_count": 10,
   "id": "518a7fe5",
   "metadata": {},
   "outputs": [],
   "source": [
    "@callback(\n",
    "    Output(component_id='test1', component_property='figure'),\n",
    "    Output(component_id='high', component_property='children'),\n",
    "    Output(component_id='low' ,component_property='children'),\n",
    "    Input(component_id='my-radio-btn', component_property='value'),\n",
    "    Input(component_id='my-slider', component_property='value'),\n",
    "    Input(component_id='my-slider1', component_property='value'),\n",
    "    Input(component_id='second-dropdown', component_property='value')\n",
    ")\n",
    "def update_text(user_select, year_select, quarter_select,drop_select):  # the function argument comes from the component property of the Input\n",
    "    \n",
    "    temp1=drop_select\n",
    "    print(drop_select)\n",
    "    #index1 = cur.index('drop_select')-1\n",
    "    #currency=index1\n",
    "    #print(currency)\n",
    "    if temp1 in cur:\n",
    "        print(\"there\")\n",
    "        for i in range(0,len(cur)-1):\n",
    "            if cur[i]==temp1:\n",
    "                print(i)\n",
    "                currency=cur[i]\n",
    "        \n",
    "\n",
    "    else:\n",
    "        print(\"hello\")\n",
    "        \n",
    "    #currency=cur[int(14)-1]\n",
    "    \n",
    "    fig3=yearly(currency)\n",
    "    \n",
    "    year1=year_select\n",
    "    dfx=monthly(year1,currency)\n",
    "    fig4=px.line(dfx, x = dfx.index, y = currency)\n",
    "    \n",
    "    quarter=quarter_select\n",
    "    fig6=quarterly(year1,currency,quarter)\n",
    "    \n",
    "    \n",
    "    HR=highestRate(currency)\n",
    "    LR=lowestRate(currency)\n",
    "    s1='Highest rate :'+str(HR)\n",
    "    s2='Lowest rate : '+str(LR)\n",
    "    \n",
    "    if user_select == 'M ':\n",
    "        figure=fig4\n",
    "        \n",
    "        \n",
    "        return figure,s1,s2\n",
    "    elif user_select == 'Y ':\n",
    "        figure=fig3 \n",
    "        return figure,s1,s2\n",
    "    elif user_select == 'Q ':\n",
    "        figure=fig6 \n",
    "        return figure,s1,s2\n",
    "    \n"
   ]
  },
  {
   "cell_type": "code",
   "execution_count": null,
   "id": "18aee351",
   "metadata": {},
   "outputs": [
    {
     "name": "stdout",
     "output_type": "stream",
     "text": [
      "Dash is running on http://127.0.0.1:4055/\n",
      "\n",
      " * Serving Flask app \"__main__\" (lazy loading)\n",
      " * Environment: production\n",
      "\u001b[31m   WARNING: This is a development server. Do not use it in a production deployment.\u001b[0m\n",
      "\u001b[2m   Use a production WSGI server instead.\u001b[0m\n",
      " * Debug mode: off\n"
     ]
    },
    {
     "name": "stderr",
     "output_type": "stream",
     "text": [
      " * Running on http://127.0.0.1:4055/ (Press CTRL+C to quit)\n",
      "127.0.0.1 - - [10/Nov/2022 12:54:05] \"GET / HTTP/1.1\" 200 -\n",
      "127.0.0.1 - - [10/Nov/2022 12:54:05] \"GET /_dash-layout HTTP/1.1\" 200 -\n",
      "127.0.0.1 - - [10/Nov/2022 12:54:05] \"GET /_dash-dependencies HTTP/1.1\" 200 -\n",
      "127.0.0.1 - - [10/Nov/2022 12:54:05] \"GET /_dash-component-suites/dash/dcc/async-dropdown.js HTTP/1.1\" 200 -\n",
      "127.0.0.1 - - [10/Nov/2022 12:54:05] \"GET /_dash-component-suites/dash/dcc/async-slider.js HTTP/1.1\" 200 -\n",
      "127.0.0.1 - - [10/Nov/2022 12:54:05] \"GET /_dash-component-suites/dash/dcc/async-graph.js HTTP/1.1\" 200 -\n",
      "127.0.0.1 - - [10/Nov/2022 12:54:05] \"GET /_dash-component-suites/dash/dcc/async-plotlyjs.js HTTP/1.1\" 200 -\n"
     ]
    },
    {
     "name": "stdout",
     "output_type": "stream",
     "text": [
      "Euro   (EUR)                     \n",
      "there\n",
      "13\n"
     ]
    },
    {
     "name": "stderr",
     "output_type": "stream",
     "text": [
      "127.0.0.1 - - [10/Nov/2022 12:54:06] \"POST /_dash-update-component HTTP/1.1\" 200 -\n",
      "127.0.0.1 - - [10/Nov/2022 12:54:10] \"POST /_dash-update-component HTTP/1.1\" 200 -\n"
     ]
    },
    {
     "name": "stdout",
     "output_type": "stream",
     "text": [
      "Euro   (EUR)                     \n",
      "there\n",
      "13\n"
     ]
    },
    {
     "name": "stderr",
     "output_type": "stream",
     "text": [
      "127.0.0.1 - - [10/Nov/2022 12:54:11] \"POST /_dash-update-component HTTP/1.1\" 200 -\n"
     ]
    },
    {
     "name": "stdout",
     "output_type": "stream",
     "text": [
      "Euro   (EUR)                     \n",
      "there\n",
      "13\n"
     ]
    },
    {
     "name": "stderr",
     "output_type": "stream",
     "text": [
      "127.0.0.1 - - [10/Nov/2022 12:54:12] \"POST /_dash-update-component HTTP/1.1\" 200 -\n"
     ]
    },
    {
     "name": "stdout",
     "output_type": "stream",
     "text": [
      "Euro   (EUR)                     \n",
      "there\n",
      "13\n"
     ]
    },
    {
     "name": "stderr",
     "output_type": "stream",
     "text": [
      "127.0.0.1 - - [10/Nov/2022 12:54:13] \"POST /_dash-update-component HTTP/1.1\" 200 -\n"
     ]
    },
    {
     "name": "stdout",
     "output_type": "stream",
     "text": [
      "Euro   (EUR)                     \n",
      "there\n",
      "13\n"
     ]
    },
    {
     "name": "stderr",
     "output_type": "stream",
     "text": [
      "127.0.0.1 - - [10/Nov/2022 12:54:14] \"POST /_dash-update-component HTTP/1.1\" 200 -\n"
     ]
    },
    {
     "name": "stdout",
     "output_type": "stream",
     "text": [
      "Euro   (EUR)                     \n",
      "there\n",
      "13\n"
     ]
    },
    {
     "name": "stderr",
     "output_type": "stream",
     "text": [
      "127.0.0.1 - - [10/Nov/2022 12:54:14] \"POST /_dash-update-component HTTP/1.1\" 200 -\n"
     ]
    },
    {
     "name": "stdout",
     "output_type": "stream",
     "text": [
      "Euro   (EUR)                     \n",
      "there\n",
      "13\n"
     ]
    },
    {
     "name": "stderr",
     "output_type": "stream",
     "text": [
      "127.0.0.1 - - [10/Nov/2022 12:54:15] \"POST /_dash-update-component HTTP/1.1\" 200 -\n"
     ]
    },
    {
     "name": "stdout",
     "output_type": "stream",
     "text": [
      "Euro   (EUR)                     \n",
      "there\n",
      "13\n"
     ]
    },
    {
     "name": "stderr",
     "output_type": "stream",
     "text": [
      "127.0.0.1 - - [10/Nov/2022 12:54:17] \"POST /_dash-update-component HTTP/1.1\" 200 -\n"
     ]
    },
    {
     "name": "stdout",
     "output_type": "stream",
     "text": [
      "Euro   (EUR)                     \n",
      "there\n",
      "13\n"
     ]
    },
    {
     "name": "stderr",
     "output_type": "stream",
     "text": [
      "127.0.0.1 - - [10/Nov/2022 12:54:19] \"POST /_dash-update-component HTTP/1.1\" 200 -\n"
     ]
    },
    {
     "name": "stdout",
     "output_type": "stream",
     "text": [
      "Euro   (EUR)                     \n",
      "there\n",
      "13\n"
     ]
    },
    {
     "name": "stderr",
     "output_type": "stream",
     "text": [
      "127.0.0.1 - - [10/Nov/2022 12:54:22] \"POST /_dash-update-component HTTP/1.1\" 200 -\n"
     ]
    },
    {
     "name": "stdout",
     "output_type": "stream",
     "text": [
      "Euro   (EUR)                     \n",
      "there\n",
      "13\n"
     ]
    },
    {
     "name": "stderr",
     "output_type": "stream",
     "text": [
      "127.0.0.1 - - [10/Nov/2022 12:54:23] \"POST /_dash-update-component HTTP/1.1\" 200 -\n"
     ]
    },
    {
     "name": "stdout",
     "output_type": "stream",
     "text": [
      "Euro   (EUR)                     \n",
      "there\n",
      "13\n"
     ]
    },
    {
     "name": "stderr",
     "output_type": "stream",
     "text": [
      "127.0.0.1 - - [10/Nov/2022 12:54:27] \"POST /_dash-update-component HTTP/1.1\" 200 -\n"
     ]
    },
    {
     "name": "stdout",
     "output_type": "stream",
     "text": [
      "Euro   (EUR)                     \n",
      "there\n",
      "13\n"
     ]
    },
    {
     "name": "stderr",
     "output_type": "stream",
     "text": [
      "127.0.0.1 - - [10/Nov/2022 12:54:29] \"POST /_dash-update-component HTTP/1.1\" 200 -\n"
     ]
    },
    {
     "name": "stdout",
     "output_type": "stream",
     "text": [
      "Euro   (EUR)                     \n",
      "there\n",
      "13\n"
     ]
    },
    {
     "name": "stderr",
     "output_type": "stream",
     "text": [
      "127.0.0.1 - - [10/Nov/2022 12:54:34] \"POST /_dash-update-component HTTP/1.1\" 200 -\n"
     ]
    },
    {
     "name": "stdout",
     "output_type": "stream",
     "text": [
      "Indian rupee   (INR)                     \n",
      "there\n",
      "16\n"
     ]
    },
    {
     "name": "stderr",
     "output_type": "stream",
     "text": [
      "127.0.0.1 - - [10/Nov/2022 12:54:37] \"POST /_dash-update-component HTTP/1.1\" 200 -\n"
     ]
    },
    {
     "name": "stdout",
     "output_type": "stream",
     "text": [
      "Indian rupee   (INR)                     \n",
      "there\n",
      "16\n"
     ]
    },
    {
     "name": "stderr",
     "output_type": "stream",
     "text": [
      "127.0.0.1 - - [10/Nov/2022 12:54:40] \"POST /_dash-update-component HTTP/1.1\" 200 -\n"
     ]
    },
    {
     "name": "stdout",
     "output_type": "stream",
     "text": [
      "Indian rupee   (INR)                     \n",
      "there\n",
      "16\n"
     ]
    },
    {
     "name": "stderr",
     "output_type": "stream",
     "text": [
      "127.0.0.1 - - [10/Nov/2022 12:54:41] \"POST /_dash-update-component HTTP/1.1\" 200 -\n"
     ]
    },
    {
     "name": "stdout",
     "output_type": "stream",
     "text": [
      "Indian rupee   (INR)                     \n",
      "there\n",
      "16\n"
     ]
    },
    {
     "name": "stderr",
     "output_type": "stream",
     "text": [
      "127.0.0.1 - - [10/Nov/2022 12:54:44] \"POST /_dash-update-component HTTP/1.1\" 200 -\n"
     ]
    },
    {
     "name": "stdout",
     "output_type": "stream",
     "text": [
      "Indian rupee   (INR)                     \n",
      "there\n",
      "16\n"
     ]
    },
    {
     "name": "stderr",
     "output_type": "stream",
     "text": [
      "127.0.0.1 - - [10/Nov/2022 12:54:45] \"POST /_dash-update-component HTTP/1.1\" 200 -\n"
     ]
    },
    {
     "name": "stdout",
     "output_type": "stream",
     "text": [
      "Indian rupee   (INR)                     \n",
      "there\n",
      "16\n"
     ]
    },
    {
     "name": "stderr",
     "output_type": "stream",
     "text": [
      "127.0.0.1 - - [10/Nov/2022 12:54:46] \"POST /_dash-update-component HTTP/1.1\" 200 -\n"
     ]
    },
    {
     "name": "stdout",
     "output_type": "stream",
     "text": [
      "Indian rupee   (INR)                     \n",
      "there\n",
      "16\n"
     ]
    },
    {
     "name": "stderr",
     "output_type": "stream",
     "text": [
      "127.0.0.1 - - [10/Nov/2022 12:54:47] \"POST /_dash-update-component HTTP/1.1\" 200 -\n"
     ]
    },
    {
     "name": "stdout",
     "output_type": "stream",
     "text": [
      "Indian rupee   (INR)                     \n",
      "there\n",
      "16\n"
     ]
    },
    {
     "name": "stderr",
     "output_type": "stream",
     "text": [
      "127.0.0.1 - - [10/Nov/2022 12:54:47] \"POST /_dash-update-component HTTP/1.1\" 200 -\n"
     ]
    },
    {
     "name": "stdout",
     "output_type": "stream",
     "text": [
      "Indian rupee   (INR)                     \n",
      "there\n",
      "16\n"
     ]
    },
    {
     "name": "stderr",
     "output_type": "stream",
     "text": [
      "127.0.0.1 - - [10/Nov/2022 12:54:48] \"POST /_dash-update-component HTTP/1.1\" 200 -\n"
     ]
    },
    {
     "name": "stdout",
     "output_type": "stream",
     "text": [
      "Indian rupee   (INR)                     \n",
      "there\n",
      "16\n"
     ]
    },
    {
     "name": "stderr",
     "output_type": "stream",
     "text": [
      "127.0.0.1 - - [10/Nov/2022 12:54:50] \"POST /_dash-update-component HTTP/1.1\" 200 -\n"
     ]
    },
    {
     "name": "stdout",
     "output_type": "stream",
     "text": [
      "Indian rupee   (INR)                     \n",
      "there\n",
      "16\n"
     ]
    },
    {
     "name": "stderr",
     "output_type": "stream",
     "text": [
      "127.0.0.1 - - [10/Nov/2022 12:54:52] \"POST /_dash-update-component HTTP/1.1\" 200 -\n"
     ]
    },
    {
     "name": "stdout",
     "output_type": "stream",
     "text": [
      "Indian rupee   (INR)                     \n",
      "there\n",
      "16\n"
     ]
    },
    {
     "name": "stderr",
     "output_type": "stream",
     "text": [
      "127.0.0.1 - - [10/Nov/2022 12:54:55] \"POST /_dash-update-component HTTP/1.1\" 200 -\n"
     ]
    },
    {
     "name": "stdout",
     "output_type": "stream",
     "text": [
      "Indian rupee   (INR)                     \n",
      "there\n",
      "16\n"
     ]
    },
    {
     "name": "stderr",
     "output_type": "stream",
     "text": [
      "127.0.0.1 - - [10/Nov/2022 12:54:58] \"POST /_dash-update-component HTTP/1.1\" 200 -\n"
     ]
    },
    {
     "name": "stdout",
     "output_type": "stream",
     "text": [
      "Indian rupee   (INR)                     \n",
      "there\n",
      "16\n"
     ]
    },
    {
     "name": "stderr",
     "output_type": "stream",
     "text": [
      "127.0.0.1 - - [10/Nov/2022 12:54:59] \"POST /_dash-update-component HTTP/1.1\" 200 -\n"
     ]
    },
    {
     "name": "stdout",
     "output_type": "stream",
     "text": [
      "Indian rupee   (INR)                     \n",
      "there\n",
      "16\n"
     ]
    },
    {
     "name": "stderr",
     "output_type": "stream",
     "text": [
      "127.0.0.1 - - [10/Nov/2022 12:55:04] \"POST /_dash-update-component HTTP/1.1\" 200 -\n"
     ]
    },
    {
     "name": "stdout",
     "output_type": "stream",
     "text": [
      "Japanese yen   (JPY)                     \n",
      "there\n",
      "20\n"
     ]
    },
    {
     "name": "stderr",
     "output_type": "stream",
     "text": [
      "127.0.0.1 - - [10/Nov/2022 12:55:18] \"POST /_dash-update-component HTTP/1.1\" 200 -\n"
     ]
    },
    {
     "name": "stdout",
     "output_type": "stream",
     "text": [
      "Japanese yen   (JPY)                     \n",
      "there\n",
      "20\n"
     ]
    },
    {
     "name": "stderr",
     "output_type": "stream",
     "text": [
      "127.0.0.1 - - [10/Nov/2022 12:55:19] \"POST /_dash-update-component HTTP/1.1\" 200 -\n"
     ]
    },
    {
     "name": "stdout",
     "output_type": "stream",
     "text": [
      "Japanese yen   (JPY)                     \n",
      "there\n",
      "20\n"
     ]
    },
    {
     "name": "stderr",
     "output_type": "stream",
     "text": [
      "127.0.0.1 - - [10/Nov/2022 12:55:22] \"POST /_dash-update-component HTTP/1.1\" 200 -\n"
     ]
    },
    {
     "name": "stdout",
     "output_type": "stream",
     "text": [
      "Japanese yen   (JPY)                     \n",
      "there\n",
      "20\n"
     ]
    },
    {
     "name": "stderr",
     "output_type": "stream",
     "text": [
      "127.0.0.1 - - [10/Nov/2022 12:55:24] \"POST /_dash-update-component HTTP/1.1\" 200 -\n"
     ]
    },
    {
     "name": "stdout",
     "output_type": "stream",
     "text": [
      "Japanese yen   (JPY)                     \n",
      "there\n",
      "20\n"
     ]
    },
    {
     "name": "stderr",
     "output_type": "stream",
     "text": [
      "127.0.0.1 - - [10/Nov/2022 12:55:24] \"POST /_dash-update-component HTTP/1.1\" 200 -\n"
     ]
    },
    {
     "name": "stdout",
     "output_type": "stream",
     "text": [
      "Japanese yen   (JPY)                     \n",
      "there\n",
      "20\n"
     ]
    },
    {
     "name": "stderr",
     "output_type": "stream",
     "text": [
      "127.0.0.1 - - [10/Nov/2022 12:55:25] \"POST /_dash-update-component HTTP/1.1\" 200 -\n"
     ]
    },
    {
     "name": "stdout",
     "output_type": "stream",
     "text": [
      "Japanese yen   (JPY)                     \n",
      "there\n",
      "20\n"
     ]
    },
    {
     "name": "stderr",
     "output_type": "stream",
     "text": [
      "127.0.0.1 - - [10/Nov/2022 12:55:27] \"POST /_dash-update-component HTTP/1.1\" 200 -\n"
     ]
    },
    {
     "name": "stdout",
     "output_type": "stream",
     "text": [
      "Japanese yen   (JPY)                     \n",
      "there\n",
      "20\n"
     ]
    },
    {
     "name": "stderr",
     "output_type": "stream",
     "text": [
      "127.0.0.1 - - [10/Nov/2022 12:55:27] \"POST /_dash-update-component HTTP/1.1\" 200 -\n"
     ]
    },
    {
     "name": "stdout",
     "output_type": "stream",
     "text": [
      "Japanese yen   (JPY)                     \n",
      "there\n",
      "20\n"
     ]
    },
    {
     "name": "stderr",
     "output_type": "stream",
     "text": [
      "127.0.0.1 - - [10/Nov/2022 12:55:30] \"POST /_dash-update-component HTTP/1.1\" 200 -\n"
     ]
    },
    {
     "name": "stdout",
     "output_type": "stream",
     "text": [
      "Japanese yen   (JPY)                     \n",
      "there\n",
      "20\n"
     ]
    },
    {
     "name": "stderr",
     "output_type": "stream",
     "text": [
      "127.0.0.1 - - [10/Nov/2022 12:55:30] \"POST /_dash-update-component HTTP/1.1\" 200 -\n"
     ]
    },
    {
     "name": "stdout",
     "output_type": "stream",
     "text": [
      "Japanese yen   (JPY)                     \n",
      "there\n",
      "20\n"
     ]
    },
    {
     "name": "stderr",
     "output_type": "stream",
     "text": [
      "127.0.0.1 - - [10/Nov/2022 12:55:31] \"POST /_dash-update-component HTTP/1.1\" 200 -\n"
     ]
    },
    {
     "name": "stdout",
     "output_type": "stream",
     "text": [
      "Japanese yen   (JPY)                     \n",
      "there\n",
      "20\n"
     ]
    },
    {
     "name": "stderr",
     "output_type": "stream",
     "text": [
      "127.0.0.1 - - [10/Nov/2022 12:55:32] \"POST /_dash-update-component HTTP/1.1\" 200 -\n"
     ]
    },
    {
     "name": "stdout",
     "output_type": "stream",
     "text": [
      "Japanese yen   (JPY)                     \n",
      "there\n",
      "20\n"
     ]
    },
    {
     "name": "stderr",
     "output_type": "stream",
     "text": [
      "127.0.0.1 - - [10/Nov/2022 12:55:34] \"POST /_dash-update-component HTTP/1.1\" 200 -\n"
     ]
    },
    {
     "name": "stdout",
     "output_type": "stream",
     "text": [
      "Japanese yen   (JPY)                     \n",
      "there\n",
      "20\n"
     ]
    },
    {
     "name": "stderr",
     "output_type": "stream",
     "text": [
      "127.0.0.1 - - [10/Nov/2022 12:55:35] \"POST /_dash-update-component HTTP/1.1\" 200 -\n"
     ]
    },
    {
     "name": "stdout",
     "output_type": "stream",
     "text": [
      "Japanese yen   (JPY)                     \n",
      "there\n",
      "20\n"
     ]
    },
    {
     "name": "stderr",
     "output_type": "stream",
     "text": [
      "127.0.0.1 - - [10/Nov/2022 12:55:38] \"POST /_dash-update-component HTTP/1.1\" 200 -\n"
     ]
    },
    {
     "name": "stdout",
     "output_type": "stream",
     "text": [
      "Japanese yen   (JPY)                     \n",
      "there\n",
      "20\n"
     ]
    },
    {
     "name": "stderr",
     "output_type": "stream",
     "text": [
      "127.0.0.1 - - [10/Nov/2022 12:55:40] \"POST /_dash-update-component HTTP/1.1\" 200 -\n"
     ]
    },
    {
     "name": "stdout",
     "output_type": "stream",
     "text": [
      "Japanese yen   (JPY)                     \n",
      "there\n",
      "20\n"
     ]
    },
    {
     "name": "stderr",
     "output_type": "stream",
     "text": [
      "127.0.0.1 - - [10/Nov/2022 12:55:43] \"POST /_dash-update-component HTTP/1.1\" 200 -\n"
     ]
    },
    {
     "name": "stdout",
     "output_type": "stream",
     "text": [
      "Indian rupee   (INR)                     \n",
      "there\n",
      "16\n"
     ]
    },
    {
     "name": "stderr",
     "output_type": "stream",
     "text": [
      "127.0.0.1 - - [10/Nov/2022 12:55:46] \"POST /_dash-update-component HTTP/1.1\" 200 -\n"
     ]
    },
    {
     "name": "stdout",
     "output_type": "stream",
     "text": [
      "Indian rupee   (INR)                     \n",
      "there\n",
      "16\n"
     ]
    },
    {
     "name": "stderr",
     "output_type": "stream",
     "text": [
      "127.0.0.1 - - [10/Nov/2022 12:55:49] \"POST /_dash-update-component HTTP/1.1\" 200 -\n"
     ]
    },
    {
     "name": "stdout",
     "output_type": "stream",
     "text": [
      "Indian rupee   (INR)                     \n",
      "there\n",
      "16\n"
     ]
    },
    {
     "name": "stderr",
     "output_type": "stream",
     "text": [
      "127.0.0.1 - - [10/Nov/2022 12:55:53] \"POST /_dash-update-component HTTP/1.1\" 200 -\n"
     ]
    },
    {
     "name": "stdout",
     "output_type": "stream",
     "text": [
      "Japanese yen   (JPY)                     \n",
      "there\n",
      "20\n"
     ]
    },
    {
     "name": "stderr",
     "output_type": "stream",
     "text": [
      "127.0.0.1 - - [10/Nov/2022 12:55:55] \"POST /_dash-update-component HTTP/1.1\" 200 -\n"
     ]
    },
    {
     "name": "stdout",
     "output_type": "stream",
     "text": [
      "Japanese yen   (JPY)                     \n",
      "there\n",
      "20\n"
     ]
    }
   ],
   "source": [
    "if __name__=='__main__':\n",
    "    app.run_server(port =4055)"
   ]
  },
  {
   "cell_type": "code",
   "execution_count": null,
   "id": "9b8f5108",
   "metadata": {},
   "outputs": [],
   "source": []
  }
 ],
 "metadata": {
  "kernelspec": {
   "display_name": "Python 3 (ipykernel)",
   "language": "python",
   "name": "python3"
  },
  "language_info": {
   "codemirror_mode": {
    "name": "ipython",
    "version": 3
   },
   "file_extension": ".py",
   "mimetype": "text/x-python",
   "name": "python",
   "nbconvert_exporter": "python",
   "pygments_lexer": "ipython3",
   "version": "3.9.12"
  }
 },
 "nbformat": 4,
 "nbformat_minor": 5
}
